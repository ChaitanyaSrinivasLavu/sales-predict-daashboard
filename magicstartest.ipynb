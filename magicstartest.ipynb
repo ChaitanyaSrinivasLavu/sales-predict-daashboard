{
 "cells": [
  {
   "cell_type": "code",
   "execution_count": null,
   "id": "e4653777",
   "metadata": {},
   "outputs": [],
   "source": [
    "import numpy as np\n",
    "import pandas as pd\n",
    "import matplotlib.pyplot as plt"
   ]
  },
  {
   "cell_type": "code",
   "execution_count": null,
   "id": "c29c1a64",
   "metadata": {},
   "outputs": [],
   "source": [
    "\"\"\"column = ['fLength','fWidth','fSize','fConc','fConc1','fAsym','fM3Long','fM3Trans','fAlpha','fDist','class']\n",
    "df = pd.read_csv('magic04.data', names=column)\"\"\""
   ]
  },
  {
   "cell_type": "code",
   "execution_count": null,
   "id": "a920f552",
   "metadata": {},
   "outputs": [],
   "source": [
    "\"\"\"df.head()\"\"\""
   ]
  },
  {
   "cell_type": "code",
   "execution_count": null,
   "id": "b43ce8cd",
   "metadata": {},
   "outputs": [],
   "source": [
    "\"\"\"df['class'] = (df['class'] == 'g').astype(int)\"\"\""
   ]
  },
  {
   "cell_type": "code",
   "execution_count": null,
   "id": "80ad347b",
   "metadata": {},
   "outputs": [],
   "source": [
    "\"\"\"df['class']\"\"\""
   ]
  },
  {
   "cell_type": "code",
   "execution_count": null,
   "id": "07cade29",
   "metadata": {},
   "outputs": [],
   "source": [
    "\"\"\"for label in column[:-1]:\n",
    "  plt.hist(df[df[\"class\"]==1][label], color='blue', label='gamma', alpha=0.7, density=True)\n",
    "  plt.hist(df[df[\"class\"]==0][label], color='red', label='hadron', alpha=0.7, density=True)\n",
    "  plt.title(label)\n",
    "  plt.ylabel(\"Probability\")\n",
    "  plt.xlabel(label)\n",
    "  plt.legend()\n",
    "  plt.show()\"\"\""
   ]
  },
  {
   "cell_type": "code",
   "execution_count": 5,
   "id": "6488f1d2",
   "metadata": {},
   "outputs": [
    {
     "data": {
      "application/vnd.jupyter.widget-view+json": {
       "model_id": "b917847db54d4e7a9b51086f89443a80",
       "version_major": 2,
       "version_minor": 0
      },
      "text/plain": [
       "FileUpload(value={}, accept='.csv', description='Upload', multiple=True)"
      ]
     },
     "metadata": {},
     "output_type": "display_data"
    },
    {
     "data": {
      "image/png": "[encoded data removed]",
      "text/plain": [
       "<Figure size 720x432 with 1 Axes>"
      ]
     },
     "metadata": {
      "needs_background": "light"
     },
     "output_type": "display_data"
    },
    {
     "name": "stdout",
     "output_type": "stream",
     "text": [
      "The star-selling product is: Food and beverages\n"
     ]
    }
   ],
   "source": [
    "import matplotlib.pyplot as plt\n",
    "import pandas as pd\n",
    "import ipywidgets as widgets\n",
    "from IPython.display import display\n",
    "\n",
    "def identify_star_product(df):\n",
    "    product_column = 'Product line'\n",
    "    product_sales = df.groupby(product_column)['Total'].sum()\n",
    "    star_product = product_sales.idxmax()\n",
    "    \n",
    "    plt.figure(figsize=(10, 6))\n",
    "    product_sales.sort_values(ascending=False).plot(kind='bar')\n",
    "    plt.title('Sales by Product')\n",
    "    plt.xlabel('Product')\n",
    "    plt.ylabel('Total Sales')\n",
    "    plt.show()\n",
    "\n",
    "    return star_product\n",
    "\n",
    "file_upload = widgets.FileUpload(accept='.csv', multiple=True)\n",
    "\n",
    "def handle_upload(change):\n",
    "    file_contents = list(change.new.values())[0]['content']\n",
    "    file_df = pd.read_csv(pd.io.common.StringIO(file_contents.decode('utf-8')))\n",
    "\n",
    "    star_product = identify_star_product(file_df)\n",
    "    \n",
    "    print(f\"The star-selling product is: {star_product}\")\n",
    "    \n",
    "file_upload.observe(handle_upload, names='value')\n",
    "display(file_upload)\n",
    "\n"
   ]
  },
  {
   "cell_type": "code",
   "execution_count": 15,
   "id": "a223f7be",
   "metadata": {
    "scrolled": true
   },
   "outputs": [
    {
     "name": "stdout",
     "output_type": "stream",
     "text": [
      "Collecting package metadata (current_repodata.json): done\n",
      "Solving environment: - \n",
      "The environment is inconsistent, please check the package plan carefully\n",
      "The following packages are causing the inconsistency:\n",
      "\n",
      "  - defaults/noarch::tifffile==2021.7.2=pyhd3eb1b0_2\n",
      "  - defaults/osx-64::daal4py==2021.3.0=py39h01d92e1_0\n",
      "  - defaults/osx-64::scipy==1.7.1=py39h88652d9_2\n",
      "  - defaults/osx-64::scikit-learn==0.24.2=py39hb2f4e1b_0\n",
      "  - defaults/noarch::imageio==2.9.0=pyhd3eb1b0_0\n",
      "  - defaults/osx-64::numba==0.54.1=py39hae1ba45_0\n",
      "  - defaults/osx-64::bottleneck==1.3.2=py39he3068b8_1\n",
      "  - defaults/osx-64::mkl_random==1.2.2=py39hb2f4e1b_0\n",
      "  - defaults/osx-64::patsy==0.5.2=py39hecd8cb5_0\n",
      "  - defaults/osx-64::imagecodecs==2021.8.26=py39ha952a84_0\n",
      "  - defaults/osx-64::bkcharts==0.2=py39hecd8cb5_0\n",
      "  - defaults/osx-64::matplotlib-base==3.4.3=py39h0a11d32_0\n",
      "  - defaults/osx-64::numpy==1.20.3=py39h4b4dc7a_0\n",
      "  - defaults/osx-64::astropy==4.3.1=py39hf9932de_0\n",
      "  - defaults/osx-64::pywavelets==1.1.1=py39he3068b8_4\n",
      "  - defaults/osx-64::scikit-learn-intelex==2021.3.0=py39hecd8cb5_0\n",
      "  - defaults/osx-64::h5py==3.2.1=py39h90fc2a2_0\n",
      "  - defaults/osx-64::anaconda==2021.11=py39_0\n",
      "  - defaults/osx-64::pytables==3.6.1=py39h648f197_1\n",
      "  - defaults/osx-64::scikit-image==0.18.3=py39hae1ba45_0\n",
      "  - defaults/osx-64::pyerfa==2.0.0=py39h9ed2024_0\n",
      "  - defaults/osx-64::statsmodels==0.12.2=py39h9ed2024_0\n",
      "  - defaults/osx-64::numexpr==2.7.3=py39h5873af2_1\n",
      "  - defaults/osx-64::mkl_fft==1.3.1=py39h4ab4a9b_0\n",
      "  - defaults/noarch::seaborn==0.11.2=pyhd3eb1b0_0\n",
      "  - defaults/osx-64::bokeh==2.4.1=py39hecd8cb5_0\n",
      "  - defaults/noarch::dask==2021.10.0=pyhd3eb1b0_0\n",
      "  - defaults/osx-64::pandas==1.3.4=py39h743cdd8_0\n",
      "  - defaults/osx-64::matplotlib==3.4.3=py39hecd8cb5_0\n",
      "failed with repodata from current_repodata.json, will retry with next repodata source.\n",
      "Solving environment: failed with repodata from current_repodata.json, will retry with next repodata source.\n",
      "Collecting package metadata (repodata.json): done\n",
      "Solving environment: | \n",
      "The environment is inconsistent, please check the package plan carefully\n",
      "The following packages are causing the inconsistency:\n",
      "\n",
      "  - defaults/noarch::tifffile==2021.7.2=pyhd3eb1b0_2\n",
      "  - defaults/osx-64::daal4py==2021.3.0=py39h01d92e1_0\n",
      "  - defaults/osx-64::scipy==1.7.1=py39h88652d9_2\n",
      "  - defaults/osx-64::scikit-learn==0.24.2=py39hb2f4e1b_0\n",
      "  - defaults/noarch::imageio==2.9.0=pyhd3eb1b0_0\n",
      "  - defaults/osx-64::numba==0.54.1=py39hae1ba45_0\n",
      "  - defaults/osx-64::bottleneck==1.3.2=py39he3068b8_1\n",
      "  - defaults/osx-64::mkl_random==1.2.2=py39hb2f4e1b_0\n",
      "  - defaults/osx-64::patsy==0.5.2=py39hecd8cb5_0\n",
      "  - defaults/osx-64::imagecodecs==2021.8.26=py39ha952a84_0\n",
      "  - defaults/osx-64::bkcharts==0.2=py39hecd8cb5_0\n",
      "  - defaults/osx-64::matplotlib-base==3.4.3=py39h0a11d32_0\n",
      "  - defaults/osx-64::numpy==1.20.3=py39h4b4dc7a_0\n",
      "  - defaults/osx-64::astropy==4.3.1=py39hf9932de_0\n",
      "  - defaults/osx-64::pywavelets==1.1.1=py39he3068b8_4\n",
      "  - defaults/osx-64::scikit-learn-intelex==2021.3.0=py39hecd8cb5_0\n",
      "  - defaults/osx-64::h5py==3.2.1=py39h90fc2a2_0\n",
      "  - defaults/osx-64::anaconda==2021.11=py39_0\n",
      "  - defaults/osx-64::pytables==3.6.1=py39h648f197_1\n",
      "  - defaults/osx-64::scikit-image==0.18.3=py39hae1ba45_0\n",
      "  - defaults/osx-64::pyerfa==2.0.0=py39h9ed2024_0\n",
      "  - defaults/osx-64::statsmodels==0.12.2=py39h9ed2024_0\n",
      "  - defaults/osx-64::numexpr==2.7.3=py39h5873af2_1\n",
      "  - defaults/osx-64::mkl_fft==1.3.1=py39h4ab4a9b_0\n",
      "  - defaults/noarch::seaborn==0.11.2=pyhd3eb1b0_0\n",
      "  - defaults/osx-64::bokeh==2.4.1=py39hecd8cb5_0\n",
      "  - defaults/noarch::dask==2021.10.0=pyhd3eb1b0_0\n",
      "  - defaults/osx-64::pandas==1.3.4=py39h743cdd8_0\n",
      "  - defaults/osx-64::matplotlib==3.4.3=py39hecd8cb5_0\n",
      "- ^C\n",
      "/ \n",
      "Note: you may need to restart the kernel to use updated packages.\n"
     ]
    }
   ],
   "source": [
    "conda update jupyter"
   ]
  },
  {
   "cell_type": "code",
   "execution_count": null,
   "id": "a25756f9",
   "metadata": {},
   "outputs": [],
   "source": []
  },
  {
   "cell_type": "code",
   "execution_count": null,
   "id": "af38b5aa",
   "metadata": {},
   "outputs": [],
   "source": []
  },
  {
   "cell_type": "code",
   "execution_count": null,
   "id": "a4753f06",
   "metadata": {},
   "outputs": [],
   "source": []
  },
  {
   "cell_type": "code",
   "execution_count": null,
   "id": "3f83f464",
   "metadata": {},
   "outputs": [],
   "source": []
  }
 ],
 "metadata": {
  "kernelspec": {
   "display_name": "Python 3 (ipykernel)",
   "language": "python",
   "name": "python3"
  },
  "language_info": {
   "codemirror_mode": {
    "name": "ipython",
    "version": 3
   },
   "file_extension": ".py",
   "mimetype": "text/x-python",
   "name": "python",
   "nbconvert_exporter": "python",
   "pygments_lexer": "ipython3",
   "version": "3.9.7"
  }
 },
 "nbformat": 4,
 "nbformat_minor": 5
}
